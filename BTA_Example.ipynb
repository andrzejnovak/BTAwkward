{
 "cells": [
  {
   "cell_type": "code",
   "execution_count": 1,
   "metadata": {},
   "outputs": [],
   "source": [
    "import uproot\n",
    "import awkward\n",
    "import uproot_methods\n",
    "import numpy as np\n",
    "\n",
    "from coffea import hist, processor\n",
    "from coffea.hist import plot\n",
    "\n",
    "import matplotlib.pyplot as plt\n",
    "import mplhep as hep"
   ]
  },
  {
   "cell_type": "code",
   "execution_count": 2,
   "metadata": {},
   "outputs": [
    {
     "data": {
      "text/plain": [
       "63192.0"
      ]
     },
     "execution_count": 2,
     "metadata": {},
     "output_type": "execute_result"
    }
   ],
   "source": [
    "pat = 'root://xrootd-cms.infn.it///eos/cms/store/group/phys_btag/BoostedBTag/BTagNTuples/2016/9_4_X_v04/QCD_Pt-800to1000_MuEnrichedPt5_TuneCUETP8M1_13TeV_pythia8_9_4_X_v04/'\n",
    "fi = 'JetTree_mc_FatJets_Subjets_BoostedCommissioning_2.root'\n",
    "f = uproot.open(pat+fi)\n",
    "\n",
    "f[\"allEvents/hEventCount\"].values[0]\n",
    "#f['otree'].keys()\n",
    "\n"
   ]
  },
  {
   "cell_type": "code",
   "execution_count": 3,
   "metadata": {},
   "outputs": [],
   "source": [
    "def ja(df, counts, prefix, bnames):\n",
    "    objp4 = awkward.JaggedArray.fromcounts(df[counts],\n",
    "        uproot_methods.TLorentzVectorArray.from_ptetaphim(\n",
    "            df[prefix + 'pt'].content,\n",
    "            df[prefix + 'eta'].content,\n",
    "            df[prefix + 'phi'].content,\n",
    "            df[prefix + 'mass'].content if prefix + 'mass' in [br.decode('ASCII') for br in df.available] else df[prefix + 'pt'].zeros_like().content,\n",
    "        )\n",
    "    )\n",
    "    branches = {k: df[prefix.split('.')[0]+'.'+v] for k,v in bnames.items()}\n",
    "    obj = awkward.JaggedArray.zip(p4=objp4, **branches)\n",
    "    obj['mass'] = obj['p4'].mass\n",
    "    obj['pt'] = obj['p4'].pt\n",
    "    obj['phi'] = obj['p4'].phi\n",
    "    obj['eta'] = obj['p4'].eta\n",
    "    return obj\n"
   ]
  },
  {
   "cell_type": "code",
   "execution_count": 4,
   "metadata": {},
   "outputs": [],
   "source": [
    "class JetProcessor(processor.ProcessorABC):        \n",
    "    def __init__(self):\n",
    "        dataset_axis = hist.Cat(\"dataset\", \"Dataset\")        \n",
    "        pthat_axis = hist.Bin(\"pthat\", r\"$p_T$\", 40,150,1200)\n",
    "        \n",
    "        axes = {\n",
    "            'mass' : hist.Bin(\"mass\", r\"$m_{jet}$ [GeV]\", 50, 0, 300),\n",
    "            'pt' : hist.Bin(\"pt\", r\"$p_T$\", 20,150,1200),\n",
    "            'eta' : hist.Bin(\"eta\", r\"$\\eta$\", 20, -3,3),\n",
    "            'flav' : hist.Bin(\"flav\", r\"flavour\", [0,1,2,3,4,5,6]),\n",
    "        }\n",
    "        \n",
    "        _hist_dict = {\n",
    "            'pthat': hist.Hist(\"Counts\", dataset_axis, pthat_axis),\n",
    "            'mass': hist.Hist(\"Counts\", dataset_axis, axes['mass'], axes['flav']),\n",
    "            'mass_wcuts': hist.Hist(\"Counts\", dataset_axis, axes['mass'], axes['flav']),\n",
    "            \n",
    "            'flav': hist.Hist(\"Counts\", dataset_axis, axes['flav']),\n",
    "            \n",
    "        }   \n",
    "        self._accumulator = processor.dict_accumulator(_hist_dict)\n",
    "        \n",
    "    @property\n",
    "    def accumulator(self):\n",
    "        return self._accumulator\n",
    "    \n",
    "    def process(self, df):\n",
    "        output = self.accumulator.identity()\n",
    "        output['sumw'] = processor.dict_accumulator()\n",
    "        \n",
    "        dataset = df['dataset']    \n",
    "        pthat = df['pthat']        \n",
    "                                                \n",
    "        subjets = ja(df, 'SoftDropPuppiSubJetInfo.nJet', 'SoftDropPuppiSubJetInfo.Jet_', \n",
    "                        {\n",
    "                            'nsv':'Jet_SV_multi',\n",
    "                        }\n",
    "                    )\n",
    "\n",
    "        muons = ja(df, 'SoftDropPuppiSubJetInfo.nPFMuon', 'SoftDropPuppiSubJetInfo.PFMuon_', \n",
    "                        {\n",
    "                            'subjetIdx' : 'PFMuon_IdxJet',\n",
    "                            \n",
    "                            'isGlobal'  : 'PFMuon_isGlobal',                            \n",
    "                        }\n",
    "                    )\n",
    "        \n",
    "        jets = ja(df, 'FatJetInfo.nJet', 'FatJetInfo.Jet_', \n",
    "                        {\n",
    "                            'nsj'   : 'Jet_nSubJets_SoftDropPuppi',\n",
    "                            'firstsj' : 'Jet_nFirstSJ_SoftDropPuppi',\n",
    "\n",
    "                            'doubleb':'Jet_DoubleSV',\n",
    "                            'hflav' : 'Jet_flavour',\n",
    "                            'bhad'  : 'Jet_nbHadrons',\n",
    "                            'chad'  : 'Jet_ncHadrons',\n",
    "                            'mass_prun' : 'Jet_massPruned',\n",
    "                        }\n",
    "                    )\n",
    "        \n",
    "        # Build subjets\n",
    "        jnsj = df['FatJetInfo.Jet_nSubJets_SoftDropPuppi']\n",
    "        sjidx = df['FatJetInfo.SubJetIdx_SoftDropPuppi']\n",
    "        # build double-jagged index array\n",
    "        subjetidx = awkward.JaggedArray.fromoffsets(jnsj.offsets, awkward.JaggedArray.fromcounts(jnsj.content, sjidx.content))\n",
    "        # take advantage of broadcasting to turn into absolute index\n",
    "        subjetidx = (subjetidx + subjets.starts).flatten().flatten()\n",
    "        # use indexed array into actual subjet content\n",
    "        jet_subjet_content = awkward.IndexedArray(subjetidx, subjets.content)\n",
    "        # re-build double-jagged array now with content\n",
    "        jet_subjet = awkward.JaggedArray.fromoffsets(jnsj.offsets, awkward.JaggedArray.fromcounts(jnsj.content, jet_subjet_content))\n",
    "        jets['subjets'] = jet_subjet\n",
    "\n",
    "        # Build muons\n",
    "        # convert to absolute index\n",
    "        muon_absjetidx = (muons['subjetIdx'] + subjets.starts).flatten()\n",
    "        # use np.unique to get the number of muons associated with each subjet\n",
    "        subjet_nmuons = np.zeros(subjets.content.size, dtype=subjets.offsets.dtype)\n",
    "        subjets_wmuons, jet_muoncounts = np.unique(muon_absjetidx, return_counts=True)\n",
    "        subjet_nmuons[subjets_wmuons] = jet_muoncounts\n",
    "        # build the indexed table\n",
    "        subjet_muons = awkward.JaggedArray.fromoffsets(subjets.offsets, awkward.JaggedArray.fromcounts(subjet_nmuons, muons.content))\n",
    "        subjet_muons['dR'] =  subjet_muons['p4'].delta_r(subjets['p4'])\n",
    "        subjets['muons'] = subjet_muons      \n",
    "      \n",
    "        # Cuts\n",
    "        per_sj = ((jets['subjets']['nsv'] >=1).sum() >=2)\n",
    "        per_mu = (((jets['subjets']['muons']['pt'] >=2 ).sum() >= 1).sum() >=2)\n",
    "          \n",
    "        # Define flavors\n",
    "        _f_gbb = (abs(jets['hflav']) == 5) & (jets['bhad'] >= 2)\n",
    "        _f_gcc = (abs(jets['hflav']) == 4) & (jets['bhad'] == 0) & (jets['chad'] >= 2)\n",
    "        _f_b = (abs(jets['hflav']) == 5) & np.invert(_f_gbb)\n",
    "        _f_c = (abs(jets['hflav']) == 4) & np.invert(_f_gcc)\n",
    "        _f_l = (abs(jets['hflav']) < 4) | (abs(jets['hflav']) == 21)  #& (jets.bhad == 0) & (jets.chad == 0)\n",
    "        _f = _f_l*1 + _f_c*2 + _f_b*3 + _f_gcc*4 + _f_gbb*5\n",
    "        jets['flav'] = _f        \n",
    "                \n",
    "        output['pthat'].fill(dataset=dataset, pthat=pthat)\n",
    "        output['flav'].fill(dataset=dataset, flav=jets['flav'].flatten())\n",
    "        output['mass'].fill(dataset=dataset, mass=jets['mass'].flatten(), flav=jets['flav'].flatten())\n",
    "        \n",
    "        return output\n",
    "\n",
    "    def postprocess(self, accumulator):\n",
    "        return accumulator\n",
    "    \n",
    "    "
   ]
  },
  {
   "cell_type": "code",
   "execution_count": 5,
   "metadata": {},
   "outputs": [
    {
     "name": "stdout",
     "output_type": "stream",
     "text": [
      "{'QCD_Pt-1000toInf_MuEnrichedPt5_TuneCP5_13TeV_pythia8_v04_20190228': [...],\n",
      " 'QCD_Pt-170to300_MuEnrichedPt5_TuneCP5_13TeV_pythia8_v04_20190228': [...]}\n"
     ]
    }
   ],
   "source": [
    "json_dict = {'QCD_Pt-1000toInf_MuEnrichedPt5_TuneCP5_13TeV_pythia8_v04_20190228': ['root://xrootd-cms.infn.it///eos/cms/store/group/phys_btag/BoostedBTag/BTagNTuples/2017/9_4_X_v04/QCD_Pt-1000toInf_MuEnrichedPt5_TuneCP5_13TeV_pythia8_v04_20190228/JetTree_mc_FatJets_Subjets_BoostedCommissioning_1.root',\n",
    "  'root://xrootd-cms.infn.it///eos/cms/store/group/phys_btag/BoostedBTag/BTagNTuples/2017/9_4_X_v04/QCD_Pt-1000toInf_MuEnrichedPt5_TuneCP5_13TeV_pythia8_v04_20190228/JetTree_mc_FatJets_Subjets_BoostedCommissioning_10.root',\n",
    "  'root://xrootd-cms.infn.it///eos/cms/store/group/phys_btag/BoostedBTag/BTagNTuples/2017/9_4_X_v04/QCD_Pt-1000toInf_MuEnrichedPt5_TuneCP5_13TeV_pythia8_v04_20190228/JetTree_mc_FatJets_Subjets_BoostedCommissioning_100.root',\n",
    "  'root://xrootd-cms.infn.it///eos/cms/store/group/phys_btag/BoostedBTag/BTagNTuples/2017/9_4_X_v04/QCD_Pt-1000toInf_MuEnrichedPt5_TuneCP5_13TeV_pythia8_v04_20190228/JetTree_mc_FatJets_Subjets_BoostedCommissioning_101.root',\n",
    "  'root://xrootd-cms.infn.it///eos/cms/store/group/phys_btag/BoostedBTag/BTagNTuples/2017/9_4_X_v04/QCD_Pt-1000toInf_MuEnrichedPt5_TuneCP5_13TeV_pythia8_v04_20190228/JetTree_mc_FatJets_Subjets_BoostedCommissioning_102.root',\n",
    "  'root://xrootd-cms.infn.it///eos/cms/store/group/phys_btag/BoostedBTag/BTagNTuples/2017/9_4_X_v04/QCD_Pt-1000toInf_MuEnrichedPt5_TuneCP5_13TeV_pythia8_v04_20190228/JetTree_mc_FatJets_Subjets_BoostedCommissioning_103.root',\n",
    "  'root://xrootd-cms.infn.it///eos/cms/store/group/phys_btag/BoostedBTag/BTagNTuples/2017/9_4_X_v04/QCD_Pt-1000toInf_MuEnrichedPt5_TuneCP5_13TeV_pythia8_v04_20190228/JetTree_mc_FatJets_Subjets_BoostedCommissioning_104.root',\n",
    "  'root://xrootd-cms.infn.it///eos/cms/store/group/phys_btag/BoostedBTag/BTagNTuples/2017/9_4_X_v04/QCD_Pt-1000toInf_MuEnrichedPt5_TuneCP5_13TeV_pythia8_v04_20190228/JetTree_mc_FatJets_Subjets_BoostedCommissioning_105.root',\n",
    "                                                                           ],\n",
    "    'QCD_Pt-170to300_MuEnrichedPt5_TuneCP5_13TeV_pythia8_v04_20190228': ['root://xrootd-cms.infn.it///eos/cms/store/group/phys_btag/BoostedBTag/BTagNTuples/2017/9_4_X_v04/QCD_Pt-170to300_MuEnrichedPt5_TuneCP5_13TeV_pythia8_v04_20190228/JetTree_mc_FatJets_Subjets_BoostedCommissioning_1.root',\n",
    "  'root://xrootd-cms.infn.it///eos/cms/store/group/phys_btag/BoostedBTag/BTagNTuples/2017/9_4_X_v04/QCD_Pt-170to300_MuEnrichedPt5_TuneCP5_13TeV_pythia8_v04_20190228/JetTree_mc_FatJets_Subjets_BoostedCommissioning_104.root',\n",
    "  'root://xrootd-cms.infn.it///eos/cms/store/group/phys_btag/BoostedBTag/BTagNTuples/2017/9_4_X_v04/QCD_Pt-170to300_MuEnrichedPt5_TuneCP5_13TeV_pythia8_v04_20190228/JetTree_mc_FatJets_Subjets_BoostedCommissioning_105.root',\n",
    "  'root://xrootd-cms.infn.it///eos/cms/store/group/phys_btag/BoostedBTag/BTagNTuples/2017/9_4_X_v04/QCD_Pt-170to300_MuEnrichedPt5_TuneCP5_13TeV_pythia8_v04_20190228/JetTree_mc_FatJets_Subjets_BoostedCommissioning_107.root',\n",
    "  'root://xrootd-cms.infn.it///eos/cms/store/group/phys_btag/BoostedBTag/BTagNTuples/2017/9_4_X_v04/QCD_Pt-170to300_MuEnrichedPt5_TuneCP5_13TeV_pythia8_v04_20190228/JetTree_mc_FatJets_Subjets_BoostedCommissioning_108.root',\n",
    "                                                                        ]\n",
    "}\n",
    "\n",
    "from pprint import pprint\n",
    "pprint(json_dict, depth=1)"
   ]
  },
  {
   "cell_type": "code",
   "execution_count": 6,
   "metadata": {},
   "outputs": [
    {
     "name": "stderr",
     "output_type": "stream",
     "text": [
      "Preprocessing: 100%|██████████| 2/2 [00:01<00:00,  1.73it/s]\n",
      "Processing: 100%|██████████| 13/13 [00:25<00:00,  1.93s/items]"
     ]
    },
    {
     "name": "stdout",
     "output_type": "stream",
     "text": [
      "({'pthat': <Hist (dataset,pthat) instance at 0x2aaca3e0c668>, 'mass': <Hist (dataset,mass,flav) instance at 0x2aaca3de0470>, 'flav': <Hist (dataset,flav) instance at 0x2aaca3de0320>, 'sumw': {}}, {'bytesread': value_accumulator(int, 172556288), 'dataservers': set_accumulator({'p06636710y50388.cern.ch:1095', 'p06253947u35885.cern.ch:1095', 'p06636710d12165.cern.ch:1095', 'p06636710k42552.cern.ch:1095', 'p06636710j45805.cern.ch:1095', 'p06636710y63608.cern.ch:1095', 'p06636710t83205.cern.ch:1095', 'p06636710y67710.cern.ch:1095', 'p05614920c84527.cern.ch:1095', 'p06253937e38526.cern.ch:1095', 'p06253937k46044.cern.ch:1095', 'p06636710p77867.cern.ch:1095'}), 'columns': set_accumulator({'FatJetInfo.Jet_massPruned', 'FatJetInfo.Jet_flavour', 'FatJetInfo.Jet_nbHadrons', 'FatJetInfo.Jet_phi', 'SoftDropPuppiSubJetInfo.nPFMuon', 'FatJetInfo.Jet_ncHadrons', 'SoftDropPuppiSubJetInfo.Jet_eta', 'SoftDropPuppiSubJetInfo.Jet_SV_multi', 'FatJetInfo.Jet_eta', 'FatJetInfo.nJet', 'FatJetInfo.Jet_mass', 'SoftDropPuppiSubJetInfo.nJet', 'FatJetInfo.Jet_pt', 'FatJetInfo.Jet_nSubJets_SoftDropPuppi', 'SoftDropPuppiSubJetInfo.Jet_pt', 'SoftDropPuppiSubJetInfo.PFMuon_phi', 'FatJetInfo.Jet_nFirstSJ_SoftDropPuppi', 'SoftDropPuppiSubJetInfo.PFMuon_eta', 'SoftDropPuppiSubJetInfo.PFMuon_IdxJet', 'SoftDropPuppiSubJetInfo.PFMuon_isGlobal', 'FatJetInfo.SubJetIdx_SoftDropPuppi', 'SoftDropPuppiSubJetInfo.PFMuon_pt', 'SoftDropPuppiSubJetInfo.Jet_mass', 'SoftDropPuppiSubJetInfo.Jet_phi', 'FatJetInfo.Jet_DoubleSV', 'pthat'}), 'entries': value_accumulator(int, 580710), 'processtime': value_accumulator(float, 175.8769428730011)})\n"
     ]
    },
    {
     "name": "stderr",
     "output_type": "stream",
     "text": [
      "\n"
     ]
    }
   ],
   "source": [
    "import time\n",
    "tstart = time.time()    \n",
    "\n",
    "output = processor.run_uproot_job(json_dict,\n",
    "                                  treename='btaganaFatJets/ttree',\n",
    "                                  processor_instance=JetProcessor(),\n",
    "                                  executor=processor.futures_executor,\n",
    "                                  #executor=processor.iterative_executor,\n",
    "                                  executor_args={'workers': 20, 'savemetrics': True},\n",
    "                                  chunksize=500000,\n",
    "                                 )\n",
    "\n",
    "elapsed = time.time() - tstart\n",
    "print(output)"
   ]
  },
  {
   "cell_type": "code",
   "execution_count": 7,
   "metadata": {},
   "outputs": [],
   "source": [
    "histograms = output[0]"
   ]
  },
  {
   "cell_type": "code",
   "execution_count": 15,
   "metadata": {},
   "outputs": [
    {
     "data": {
      "text/plain": [
       "<matplotlib.legend.Legend at 0x2aacdc178128>"
      ]
     },
     "execution_count": 15,
     "metadata": {},
     "output_type": "execute_result"
    },
    {
     "data": {
      "image/png": "[encoded data removed]",
      "text/plain": [
       "<Figure size 720x720 with 1 Axes>"
      ]
     },
     "metadata": {
      "needs_background": "light"
     },
     "output_type": "display_data"
    }
   ],
   "source": [
    "plt.style.use(hep.style.ROOT)\n",
    "fig, ax, _ = plot.plot1d(histograms['pthat'], overlay='dataset', density=True)\n",
    "ax.legend([\"QCD1\",\"QCD2\"])\n",
    "\n"
   ]
  },
  {
   "cell_type": "code",
   "execution_count": null,
   "metadata": {},
   "outputs": [],
   "source": []
  },
  {
   "cell_type": "code",
   "execution_count": null,
   "metadata": {},
   "outputs": [],
   "source": []
  },
  {
   "cell_type": "code",
   "execution_count": null,
   "metadata": {},
   "outputs": [],
   "source": []
  }
 ],
 "metadata": {
  "kernelspec": {
   "display_name": "Python 3",
   "language": "python",
   "name": "python3"
  },
  "language_info": {
   "codemirror_mode": {
    "name": "ipython",
    "version": 3
   },
   "file_extension": ".py",
   "mimetype": "text/x-python",
   "name": "python",
   "nbconvert_exporter": "python",
   "pygments_lexer": "ipython3",
   "version": "3.7.3"
  }
 },
 "nbformat": 4,
 "nbformat_minor": 2
}
